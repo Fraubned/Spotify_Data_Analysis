{
 "cells": [
  {
   "cell_type": "code",
   "execution_count": 2,
   "metadata": {},
   "outputs": [
    {
     "data": {
      "text/plain": [
       "['Drake',\n",
       " 'Rick Ross',\n",
       " 'Disclosure',\n",
       " 'WALK THE MOON',\n",
       " 'Backstreet Boys',\n",
       " 'FIDLAR',\n",
       " 'Crystal Castles',\n",
       " 'Michael Jackson',\n",
       " 'Demi Lovato',\n",
       " 'Skrillex']"
      ]
     },
     "execution_count": 2,
     "metadata": {},
     "output_type": "execute_result"
    }
   ],
   "source": [
    "import numpy as np \n",
    "import pandas as pd \n",
    "import matplotlib.pyplot as plt\n",
    "import matplotlib.ticker as ticker\n",
    "from sklearn import datasets, linear_model\n",
    "from sklearn.decomposition import PCA\n",
    "from sklearn.preprocessing import MinMaxScaler\n",
    "from sklearn.manifold import TSNE\n",
    "\n",
    "\n",
    "data_frame = pd.read_csv(\"data.csv\")\n",
    "data_frame = data_frame.drop(\"Unnamed: 0\", axis=\"columns\")\n",
    "data_frame.head()\n",
    "n = 10\n",
    "data_frame['artist'].value_counts()[:n].index.tolist()"
   ]
  },
  {
   "cell_type": "code",
   "execution_count": 3,
   "metadata": {},
   "outputs": [
    {
     "name": "stdout",
     "output_type": "stream",
     "text": [
      "      acousticness  danceability  duration_ms  energy  instrumentalness  key  \\\n",
      "5         0.004790         0.804       251333   0.560          0.000000    8   \n",
      "6         0.014500         0.739       241400   0.472          0.000007    1   \n",
      "37        0.056500         0.853       205879   0.547          0.000000    1   \n",
      "40        0.000410         0.731       324541   0.852          0.625000   11   \n",
      "43        0.002430         0.621       378893   0.683          0.008560   11   \n",
      "102       0.247000         0.525       292760   0.643          0.000000    5   \n",
      "117       0.002570         0.896       267024   0.623          0.000258    2   \n",
      "123       0.000758         0.695       253773   0.912          0.000103   10   \n",
      "133       0.066800         0.704       199246   0.647          0.000002   10   \n",
      "150       0.064800         0.855       310907   0.638          0.000000    9   \n",
      "154       0.001570         0.790       217707   0.676          0.000000    8   \n",
      "158       0.190000         0.735       275840   0.410          0.000000   11   \n",
      "168       0.047200         0.849       217693   0.408          0.000000    6   \n",
      "174       0.037000         0.807       250130   0.785          0.000763    8   \n",
      "176       0.141000         0.500       256093   0.593          0.000006    1   \n",
      "180       0.010700         0.882       284027   0.743          0.001520    7   \n",
      "181       0.031500         0.628       308527   0.824          0.543000    0   \n",
      "201       0.085500         0.737       332453   0.545          0.000093    6   \n",
      "214       0.385000         0.415       359800   0.681          0.000000    2   \n",
      "233       0.077800         0.729       289627   0.527          0.000000    9   \n",
      "375       0.111000         0.615       196817   0.781          0.000000    5   \n",
      "440       0.369000         0.662       236733   0.571          0.000197    6   \n",
      "575       0.004700         0.777       309180   0.688          0.690000    8   \n",
      "587       0.040100         0.636       267147   0.702          0.000000   11   \n",
      "589       0.042500         0.790       173160   0.531          0.000000    8   \n",
      "659       0.059700         0.650       242056   0.985          0.325000    6   \n",
      "676       0.003000         0.766       227027   0.453          0.000035    6   \n",
      "717       0.003490         0.772       227880   0.407          0.000024    6   \n",
      "719       0.015100         0.502       255632   0.732          0.000119    1   \n",
      "728       0.009630         0.667       277688   0.848          0.000213   10   \n",
      "747       0.134000         0.359       229147   0.662          0.000000    1   \n",
      "774       0.001880         0.661       311920   0.837          0.000000    5   \n",
      "779       0.763000         0.707       275227   0.709          0.000000   11   \n",
      "816       0.172000         0.683       315094   0.805          0.000231    5   \n",
      "968       0.000954         0.775       188013   0.823          0.000000    1   \n",
      "998       0.142000         0.714       135920   0.566          0.000001    7   \n",
      "1016      0.010300         0.745       143214   0.822          0.000004    7   \n",
      "1183      0.304000         0.804       298941   0.459          0.086200   11   \n",
      "1218      0.219000         0.427       257760   0.861          0.000000    1   \n",
      "1223      0.043100         0.697       277387   0.527          0.000013    0   \n",
      "1418      0.214000         0.523       291280   0.783          0.000000    6   \n",
      "1419      0.008950         0.434       332600   0.785          0.000000    4   \n",
      "1420      0.012300         0.481       341680   0.716          0.000000   10   \n",
      "1421      0.006120         0.729       275720   0.838          0.000000    8   \n",
      "1422      0.005890         0.662       267720   0.808          0.000000    9   \n",
      "1423      0.001840         0.541       225427   0.609          0.000000    1   \n",
      "1424      0.008400         0.629       242373   0.700          0.000000    2   \n",
      "1425      0.027300         0.501       269720   0.775          0.000000    7   \n",
      "1426      0.007550         0.540       224707   0.820          0.000000    5   \n",
      "\n",
      "      liveness  loudness  mode  speechiness    tempo  time_signature  valence  \\\n",
      "5       0.1640    -6.682     1       0.1850   85.023             4.0   0.2640   \n",
      "6       0.2070   -11.204     1       0.1560   80.030             4.0   0.3080   \n",
      "37      0.3410    -7.535     1       0.1940  142.065             4.0   0.6770   \n",
      "40      0.3580    -6.080     1       0.0476  125.008             4.0   0.6220   \n",
      "43      0.5250    -5.619     0       0.2420  124.283             5.0   0.0891   \n",
      "102     0.1060    -6.874     0       0.8160  199.727             4.0   0.9430   \n",
      "117     0.0390    -8.008     1       0.0571  134.962             4.0   0.5640   \n",
      "123     0.3020    -3.331     0       0.1930  160.043             4.0   0.6120   \n",
      "133     0.1010    -7.874     0       0.1710   92.002             4.0   0.6940   \n",
      "150     0.1620    -4.968     0       0.1430  122.967             4.0   0.4330   \n",
      "154     0.2500    -6.432     0       0.2710  132.002             4.0   0.3140   \n",
      "158     0.3410    -8.735     0       0.2000  114.812             4.0   0.1600   \n",
      "168     0.1010    -8.670     0       0.2840   99.876             4.0   0.3370   \n",
      "174     0.1800    -7.928     1       0.1480  124.051             4.0   0.4210   \n",
      "176     0.0969    -4.340     1       0.0898   68.456             4.0   0.3250   \n",
      "180     0.3270    -6.972     1       0.1410  123.970             4.0   0.6780   \n",
      "181     0.0999    -7.983     1       0.1120  122.010             4.0   0.8600   \n",
      "201     0.1530    -8.536     0       0.3620  140.086             4.0   0.4380   \n",
      "214     0.1010    -4.104     0       0.1890  171.893             4.0   0.3720   \n",
      "233     0.3820    -6.338     1       0.0708  126.012             4.0   0.2300   \n",
      "375     0.3730    -4.838     0       0.2030  105.967             4.0   0.6640   \n",
      "440     0.0908    -7.382     0       0.1060  152.009             4.0   0.4420   \n",
      "575     0.0960    -8.692     0       0.0681  126.019             4.0   0.1800   \n",
      "587     0.1050    -5.437     1       0.0743  125.998             4.0   0.4710   \n",
      "589     0.2660    -6.968     1       0.1970   86.306             4.0   0.4980   \n",
      "659     0.3600    -3.406     0       0.1330  153.009             4.0   0.6670   \n",
      "676     0.0923    -6.651     0       0.0670  100.002             4.0   0.3460   \n",
      "717     0.0705    -7.442     0       0.0907  100.006             4.0   0.2870   \n",
      "719     0.0897    -5.450     1       0.1680  122.025             4.0   0.5290   \n",
      "728     0.3170    -6.164     0       0.0500  119.975             4.0   0.8950   \n",
      "747     0.0907    -2.843     1       0.0466  152.096             4.0   0.2960   \n",
      "774     0.3620    -3.780     0       0.1140  102.831             4.0   0.6150   \n",
      "779     0.2740    -3.979     0       0.3400   89.094             4.0   0.4970   \n",
      "816     0.3570    -5.240     1       0.3530  123.658             4.0   0.8360   \n",
      "968     0.1440    -6.091     1       0.2710  130.041             4.0   0.2880   \n",
      "998     0.5700    -4.408     1       0.0560  113.074             4.0   0.4290   \n",
      "1016    0.1550    -6.354     1       0.2520   86.733             5.0   0.3740   \n",
      "1183    0.1100   -11.556     1       0.0390  111.963             4.0   0.3720   \n",
      "1218    0.2770    -4.874     1       0.3760  161.776             4.0   0.5810   \n",
      "1223    0.0882   -10.438     0       0.2110  121.849             4.0   0.2890   \n",
      "1418    0.6120    -3.755     0       0.1850  117.264             5.0   0.3120   \n",
      "1419    0.1320    -4.169     0       0.1280  106.926             5.0   0.3930   \n",
      "1420    0.1410    -5.996     0       0.6220   78.829             4.0   0.3990   \n",
      "1421    0.0721    -4.476     0       0.3130  136.869             4.0   0.3500   \n",
      "1422    0.6130    -3.060     1       0.1220   76.493             4.0   0.4480   \n",
      "1423    0.1790    -3.715     1       0.1270  158.314             4.0   0.2980   \n",
      "1424    0.1180    -6.212     1       0.2640   85.814             4.0   0.1590   \n",
      "1425    0.2110    -6.248     0       0.4360   85.929             4.0   0.6150   \n",
      "1426    0.6420    -3.824     1       0.1380   78.063             4.0   0.5160   \n",
      "\n",
      "      target                                  song_title      artist  \n",
      "5          1                                    Sneakin’       Drake  \n",
      "6          1                                 Childs Play       Drake  \n",
      "37         1                                     Jumpman       Drake  \n",
      "40         1                                   Bang That  Disclosure  \n",
      "43         1                                     Monster  Kanye West  \n",
      "102        1                              Willing & Able  Disclosure  \n",
      "117        1                               Hotline Bling       Drake  \n",
      "123        1                     Movin' Bass - GTA Remix   Rick Ross  \n",
      "133        1                                     Magnets  Disclosure  \n",
      "150        1                                     All Day  Kanye West  \n",
      "154        1                                   Big Rings       Drake  \n",
      "158        1                               Know Yourself       Drake  \n",
      "168        1                             Wu-Tang Forever       Drake  \n",
      "174        1                               Confess To Me  Disclosure  \n",
      "176        1                                  New Slaves  Kanye West  \n",
      "180        1                  When A Fire Starts To Burn  Disclosure  \n",
      "181        1  When A Fire Starts To Burn - Midland Remix  Disclosure  \n",
      "201        1                                       Mercy  Kanye West  \n",
      "214        1                         Blood On The Leaves  Kanye West  \n",
      "233        1                                  Sanctified   Rick Ross  \n",
      "375        1                           Omen - Radio Edit  Disclosure  \n",
      "440        1                                   Headlines       Drake  \n",
      "575        1                                        Flow  Disclosure  \n",
      "587        1                                Hold Me Back   Rick Ross  \n",
      "589        1                     Started From the Bottom       Drake  \n",
      "659        1                     You & Me - Baauer Remix  Disclosure  \n",
      "676        1                   Hold On, We're Going Home       Drake  \n",
      "717        1                   Hold On, We're Going Home       Drake  \n",
      "719        1                                       Latch  Disclosure  \n",
      "728        1                                 White Noise  Disclosure  \n",
      "747        1                                     Bound 2  Kanye West  \n",
      "774        1                          The Devil Is A Lie   Rick Ross  \n",
      "779        1                     0 To 100 / The Catch Up       Drake  \n",
      "816        1                                  Holding On  Disclosure  \n",
      "968        1                              Black Skinhead  Kanye West  \n",
      "998        1               Father Stretch My Hands Pt. 1  Kanye West  \n",
      "1016       1                            Skepta Interlude       Drake  \n",
      "1183       0                                Passionfruit       Drake  \n",
      "1218       0                             Best I Ever Had       Drake  \n",
      "1223       0                                   Take Care       Drake  \n",
      "1418       0                             Apple of My Eye   Rick Ross  \n",
      "1419       0                            Santorini Greece   Rick Ross  \n",
      "1420       0                         Idols Become Rivals   Rick Ross  \n",
      "1421       0                              Trap Trap Trap   Rick Ross  \n",
      "1422       0                             Dead Presidents   Rick Ross  \n",
      "1423       0                              She On My Dick   Rick Ross  \n",
      "1424       0                         I Think She Like Me   Rick Ross  \n",
      "1425       0                              Powers That Be   Rick Ross  \n",
      "1426       0                Game Ain't Based On Sympathy   Rick Ross  \n"
     ]
    }
   ],
   "source": [
    "# We selected in most frequent artists.\n",
    "process_data_frame = data_frame[data_frame['artist'].isin(['Kanye West','Drake','Rick Ross','Disclosure'])]\n",
    "print(process_data_frame)"
   ]
  },
  {
   "cell_type": "code",
   "execution_count": 4,
   "metadata": {},
   "outputs": [
    {
     "name": "stdout",
     "output_type": "stream",
     "text": [
      "      acousticness  danceability  duration_ms  energy  instrumentalness  \\\n",
      "5         0.004790         0.804       251333   0.560          0.000000   \n",
      "6         0.014500         0.739       241400   0.472          0.000007   \n",
      "37        0.056500         0.853       205879   0.547          0.000000   \n",
      "40        0.000410         0.731       324541   0.852          0.625000   \n",
      "43        0.002430         0.621       378893   0.683          0.008560   \n",
      "102       0.247000         0.525       292760   0.643          0.000000   \n",
      "117       0.002570         0.896       267024   0.623          0.000258   \n",
      "123       0.000758         0.695       253773   0.912          0.000103   \n",
      "133       0.066800         0.704       199246   0.647          0.000002   \n",
      "150       0.064800         0.855       310907   0.638          0.000000   \n",
      "154       0.001570         0.790       217707   0.676          0.000000   \n",
      "158       0.190000         0.735       275840   0.410          0.000000   \n",
      "168       0.047200         0.849       217693   0.408          0.000000   \n",
      "174       0.037000         0.807       250130   0.785          0.000763   \n",
      "176       0.141000         0.500       256093   0.593          0.000006   \n",
      "180       0.010700         0.882       284027   0.743          0.001520   \n",
      "181       0.031500         0.628       308527   0.824          0.543000   \n",
      "201       0.085500         0.737       332453   0.545          0.000093   \n",
      "214       0.385000         0.415       359800   0.681          0.000000   \n",
      "233       0.077800         0.729       289627   0.527          0.000000   \n",
      "375       0.111000         0.615       196817   0.781          0.000000   \n",
      "440       0.369000         0.662       236733   0.571          0.000197   \n",
      "575       0.004700         0.777       309180   0.688          0.690000   \n",
      "587       0.040100         0.636       267147   0.702          0.000000   \n",
      "589       0.042500         0.790       173160   0.531          0.000000   \n",
      "659       0.059700         0.650       242056   0.985          0.325000   \n",
      "676       0.003000         0.766       227027   0.453          0.000035   \n",
      "717       0.003490         0.772       227880   0.407          0.000024   \n",
      "719       0.015100         0.502       255632   0.732          0.000119   \n",
      "728       0.009630         0.667       277688   0.848          0.000213   \n",
      "747       0.134000         0.359       229147   0.662          0.000000   \n",
      "774       0.001880         0.661       311920   0.837          0.000000   \n",
      "779       0.763000         0.707       275227   0.709          0.000000   \n",
      "816       0.172000         0.683       315094   0.805          0.000231   \n",
      "968       0.000954         0.775       188013   0.823          0.000000   \n",
      "998       0.142000         0.714       135920   0.566          0.000001   \n",
      "1016      0.010300         0.745       143214   0.822          0.000004   \n",
      "1183      0.304000         0.804       298941   0.459          0.086200   \n",
      "1218      0.219000         0.427       257760   0.861          0.000000   \n",
      "1223      0.043100         0.697       277387   0.527          0.000013   \n",
      "1418      0.214000         0.523       291280   0.783          0.000000   \n",
      "1419      0.008950         0.434       332600   0.785          0.000000   \n",
      "1420      0.012300         0.481       341680   0.716          0.000000   \n",
      "1421      0.006120         0.729       275720   0.838          0.000000   \n",
      "1422      0.005890         0.662       267720   0.808          0.000000   \n",
      "1423      0.001840         0.541       225427   0.609          0.000000   \n",
      "1424      0.008400         0.629       242373   0.700          0.000000   \n",
      "1425      0.027300         0.501       269720   0.775          0.000000   \n",
      "1426      0.007550         0.540       224707   0.820          0.000000   \n",
      "\n",
      "      liveness  loudness  speechiness    tempo  valence      artist  \n",
      "5       0.1640    -6.682       0.1850   85.023   0.2640       Drake  \n",
      "6       0.2070   -11.204       0.1560   80.030   0.3080       Drake  \n",
      "37      0.3410    -7.535       0.1940  142.065   0.6770       Drake  \n",
      "40      0.3580    -6.080       0.0476  125.008   0.6220  Disclosure  \n",
      "43      0.5250    -5.619       0.2420  124.283   0.0891  Kanye West  \n",
      "102     0.1060    -6.874       0.8160  199.727   0.9430  Disclosure  \n",
      "117     0.0390    -8.008       0.0571  134.962   0.5640       Drake  \n",
      "123     0.3020    -3.331       0.1930  160.043   0.6120   Rick Ross  \n",
      "133     0.1010    -7.874       0.1710   92.002   0.6940  Disclosure  \n",
      "150     0.1620    -4.968       0.1430  122.967   0.4330  Kanye West  \n",
      "154     0.2500    -6.432       0.2710  132.002   0.3140       Drake  \n",
      "158     0.3410    -8.735       0.2000  114.812   0.1600       Drake  \n",
      "168     0.1010    -8.670       0.2840   99.876   0.3370       Drake  \n",
      "174     0.1800    -7.928       0.1480  124.051   0.4210  Disclosure  \n",
      "176     0.0969    -4.340       0.0898   68.456   0.3250  Kanye West  \n",
      "180     0.3270    -6.972       0.1410  123.970   0.6780  Disclosure  \n",
      "181     0.0999    -7.983       0.1120  122.010   0.8600  Disclosure  \n",
      "201     0.1530    -8.536       0.3620  140.086   0.4380  Kanye West  \n",
      "214     0.1010    -4.104       0.1890  171.893   0.3720  Kanye West  \n",
      "233     0.3820    -6.338       0.0708  126.012   0.2300   Rick Ross  \n",
      "375     0.3730    -4.838       0.2030  105.967   0.6640  Disclosure  \n",
      "440     0.0908    -7.382       0.1060  152.009   0.4420       Drake  \n",
      "575     0.0960    -8.692       0.0681  126.019   0.1800  Disclosure  \n",
      "587     0.1050    -5.437       0.0743  125.998   0.4710   Rick Ross  \n",
      "589     0.2660    -6.968       0.1970   86.306   0.4980       Drake  \n",
      "659     0.3600    -3.406       0.1330  153.009   0.6670  Disclosure  \n",
      "676     0.0923    -6.651       0.0670  100.002   0.3460       Drake  \n",
      "717     0.0705    -7.442       0.0907  100.006   0.2870       Drake  \n",
      "719     0.0897    -5.450       0.1680  122.025   0.5290  Disclosure  \n",
      "728     0.3170    -6.164       0.0500  119.975   0.8950  Disclosure  \n",
      "747     0.0907    -2.843       0.0466  152.096   0.2960  Kanye West  \n",
      "774     0.3620    -3.780       0.1140  102.831   0.6150   Rick Ross  \n",
      "779     0.2740    -3.979       0.3400   89.094   0.4970       Drake  \n",
      "816     0.3570    -5.240       0.3530  123.658   0.8360  Disclosure  \n",
      "968     0.1440    -6.091       0.2710  130.041   0.2880  Kanye West  \n",
      "998     0.5700    -4.408       0.0560  113.074   0.4290  Kanye West  \n",
      "1016    0.1550    -6.354       0.2520   86.733   0.3740       Drake  \n",
      "1183    0.1100   -11.556       0.0390  111.963   0.3720       Drake  \n",
      "1218    0.2770    -4.874       0.3760  161.776   0.5810       Drake  \n",
      "1223    0.0882   -10.438       0.2110  121.849   0.2890       Drake  \n",
      "1418    0.6120    -3.755       0.1850  117.264   0.3120   Rick Ross  \n",
      "1419    0.1320    -4.169       0.1280  106.926   0.3930   Rick Ross  \n",
      "1420    0.1410    -5.996       0.6220   78.829   0.3990   Rick Ross  \n",
      "1421    0.0721    -4.476       0.3130  136.869   0.3500   Rick Ross  \n",
      "1422    0.6130    -3.060       0.1220   76.493   0.4480   Rick Ross  \n",
      "1423    0.1790    -3.715       0.1270  158.314   0.2980   Rick Ross  \n",
      "1424    0.1180    -6.212       0.2640   85.814   0.1590   Rick Ross  \n",
      "1425    0.2110    -6.248       0.4360   85.929   0.6150   Rick Ross  \n",
      "1426    0.6420    -3.824       0.1380   78.063   0.5160   Rick Ross  \n",
      "Number of rows\n",
      "49\n"
     ]
    }
   ],
   "source": [
    "# If there is an error occur please take del operations in comment lines \n",
    "del process_data_frame['target']\n",
    "del process_data_frame['song_title']\n",
    "del process_data_frame['key']\n",
    "del process_data_frame['mode']\n",
    "del process_data_frame['time_signature']\n",
    "# We delete unnecessary columns\n",
    "print(process_data_frame)\n",
    "print(\"Number of rows\")\n",
    "print (process_data_frame.shape[0])"
   ]
  },
  {
   "cell_type": "code",
   "execution_count": 9,
   "metadata": {},
   "outputs": [
    {
     "name": "stderr",
     "output_type": "stream",
     "text": [
      "C:\\Users\\fazi\\Anaconda3\\lib\\site-packages\\sklearn\\utils\\validation.py:724: DataConversionWarning: A column-vector y was passed when a 1d array was expected. Please change the shape of y to (n_samples, ), for example using ravel().\n",
      "  y = column_or_1d(y, warn=True)\n"
     ]
    }
   ],
   "source": [
    "x = process_data_frame.iloc[:,:10].values \n",
    "y = process_data_frame.iloc[0:,10:].values \n",
    "\n",
    "\n",
    "from sklearn.model_selection import train_test_split\n",
    "\n",
    "x_train, x_test,y_train,y_test = train_test_split(x,y,test_size=0.33, random_state=0)\n",
    "\n",
    "\n",
    "from sklearn.preprocessing import StandardScaler\n",
    "\n",
    "sc=StandardScaler()\n",
    "\n",
    "X_train = sc.fit_transform(x_train)\n",
    "X_test = sc.transform(x_test)\n",
    "\n",
    "\n",
    "\n",
    "from sklearn.naive_bayes import GaussianNB\n",
    "gnb = GaussianNB()\n",
    "gnb.fit(X_train, y_train)# for avoid warning use this: gnb.fit(X_train, np.ravel())\n",
    "\n",
    "y_pred = gnb.predict(X_test)\n",
    "\n",
    "from sklearn.metrics import confusion_matrix\n",
    "cm = confusion_matrix(y_test,y_pred)"
   ]
  },
  {
   "cell_type": "code",
   "execution_count": 7,
   "metadata": {},
   "outputs": [],
   "source": [
    "def plot_confusion_matrix(cm, classes,\n",
    "                          normalize=False,\n",
    "                          title='Confusion matrix',\n",
    "                          cmap=plt.cm.Blues):\n",
    "    \"\"\"\n",
    "    This function prints and plots the confusion matrix.\n",
    "    Normalization can be applied by setting `normalize=True`.\n",
    "    \"\"\"\n",
    "    import itertools\n",
    "    if normalize:\n",
    "        cm = cm.astype('float') / cm.sum(axis=1)[:, np.newaxis]\n",
    "        print(\"Normalized confusion matrix\")\n",
    "    else:\n",
    "        print('Confusion matrix, without normalization')\n",
    "\n",
    "    print(cm)\n",
    "\n",
    "    plt.imshow(cm, interpolation='nearest', cmap=cmap)\n",
    "    plt.title(title)\n",
    "    plt.colorbar()\n",
    "    tick_marks = np.arange(len(classes))\n",
    "    plt.xticks(tick_marks, classes, rotation=45)\n",
    "    plt.yticks(tick_marks, classes)\n",
    "\n",
    "    fmt = '.2f' if normalize else 'd'\n",
    "    thresh = cm.max() / 2.\n",
    "    for i, j in itertools.product(range(cm.shape[0]), range(cm.shape[1])):\n",
    "        plt.text(j, i, format(cm[i, j], fmt),\n",
    "                 horizontalalignment=\"center\",\n",
    "                 color=\"white\" if cm[i, j] > thresh else \"black\")\n",
    "\n",
    "    plt.ylabel('True label')\n",
    "    plt.xlabel('Predicted label')\n",
    "    plt.tight_layout()"
   ]
  },
  {
   "cell_type": "code",
   "execution_count": 11,
   "metadata": {},
   "outputs": [
    {
     "name": "stdout",
     "output_type": "stream",
     "text": [
      "Confusion matrix, without normalization\n",
      "[[1 0 1 1]\n",
      " [1 4 1 1]\n",
      " [1 1 3 0]\n",
      " [0 0 0 2]]\n"
     ]
    },
    {
     "data": {
      "image/png": "[encoded data removed]",
      "text/plain": [
       "<Figure size 432x288 with 2 Axes>"
      ]
     },
     "metadata": {
      "needs_background": "light"
     },
     "output_type": "display_data"
    }
   ],
   "source": [
    "cnf_matrix = confusion_matrix(y_test, y_pred,labels=['Kanye West','Drake','Rick Ross','Disclosure'])\n",
    "np.set_printoptions(precision=2)\n",
    "\n",
    "# Plot non-normalized confusion matrix\n",
    "plt.figure()\n",
    "plot_confusion_matrix(cnf_matrix, classes=['Kanye West','Drake','Rick Ross','Disclosure'],\n",
    "                      title='Confusion matrix, without normalization')"
   ]
  },
  {
   "cell_type": "code",
   "execution_count": 12,
   "metadata": {},
   "outputs": [
    {
     "name": "stderr",
     "output_type": "stream",
     "text": [
      "C:\\Users\\fazi\\Anaconda3\\lib\\site-packages\\ipykernel_launcher.py:21: DataConversionWarning: A column-vector y was passed when a 1d array was expected. Please change the shape of y to (n_samples,), for example using ravel().\n"
     ]
    }
   ],
   "source": [
    "x1 = process_data_frame.iloc[:,:10].values \n",
    "y1 = process_data_frame.iloc[0:,10:].values \n",
    "\n",
    "\n",
    "from sklearn.model_selection import train_test_split\n",
    "\n",
    "x1_train, x1_test,y1_train,y1_test = train_test_split(x1,y1,test_size=0.33, random_state=0)\n",
    "\n",
    "\n",
    "from sklearn.preprocessing import StandardScaler\n",
    "\n",
    "sc=StandardScaler()\n",
    "\n",
    "X1_train = sc.fit_transform(x1_train)\n",
    "X1_test = sc.transform(x1_test)\n",
    "\n",
    "\n",
    "from sklearn.ensemble import RandomForestClassifier\n",
    "#We have 49 elements. 19 is enough for estimator.\n",
    "rand_forest = RandomForestClassifier(n_estimators = 19, random_state=0)\n",
    "rand_forest.fit(X1_train, y1_train)\n",
    "y1_pred = rand_forest.predict(X1_test)# again you can use ravel in there\n",
    "\n",
    "from sklearn.metrics import confusion_matrix\n",
    "cm = confusion_matrix(y1_test,y1_pred)"
   ]
  },
  {
   "cell_type": "code",
   "execution_count": 13,
   "metadata": {},
   "outputs": [
    {
     "name": "stdout",
     "output_type": "stream",
     "text": [
      "Confusion matrix, without normalization\n",
      "[[1 0 1 1]\n",
      " [0 3 1 3]\n",
      " [1 0 3 1]\n",
      " [0 0 0 2]]\n"
     ]
    },
    {
     "data": {
      "image/png": "[encoded data removed]",
      "text/plain": [
       "<Figure size 432x288 with 2 Axes>"
      ]
     },
     "metadata": {
      "needs_background": "light"
     },
     "output_type": "display_data"
    }
   ],
   "source": [
    "cnf_matrix = confusion_matrix(y1_test, y1_pred,labels=['Kanye West','Drake','Rick Ross','Disclosure'])\n",
    "np.set_printoptions(precision=2)\n",
    "\n",
    "# Plot non-normalized confusion matrix\n",
    "plt.figure()\n",
    "plot_confusion_matrix(cnf_matrix, classes=['Kanye West','Drake','Rick Ross','Disclosure'],\n",
    "                      title='Confusion matrix, without normalization')"
   ]
  },
  {
   "cell_type": "code",
   "execution_count": 5,
   "metadata": {},
   "outputs": [
    {
     "name": "stderr",
     "output_type": "stream",
     "text": [
      "C:\\Users\\fazi\\Anaconda3\\lib\\site-packages\\ipykernel_launcher.py:21: DataConversionWarning: A column-vector y was passed when a 1d array was expected. Please change the shape of y to (n_samples, ), for example using ravel().\n"
     ]
    }
   ],
   "source": [
    "x2 = process_data_frame.iloc[:,:10].values \n",
    "y2 = process_data_frame.iloc[0:,10:].values \n",
    "\n",
    "\n",
    "from sklearn.model_selection import train_test_split\n",
    "\n",
    "x2_train, x2_test,y2_train,y2_test = train_test_split(x2,y2,test_size=0.33, random_state=0)\n",
    "\n",
    "\n",
    "from sklearn.preprocessing import StandardScaler\n",
    "\n",
    "sc=StandardScaler()\n",
    "\n",
    "X2_train = sc.fit_transform(x2_train)\n",
    "X2_test = sc.transform(x2_test)\n",
    "\n",
    "from sklearn.neighbors import KNeighborsClassifier\n",
    "\n",
    "#We have 32 train data so its use 5 is healthy\n",
    "knn = KNeighborsClassifier(n_neighbors=5, metric='minkowski')\n",
    "knn.fit(X2_train,y2_train)\n",
    "\n",
    "y2_pred = knn.predict(X2_test)\n",
    "\n",
    "\n",
    "from sklearn.metrics import confusion_matrix\n",
    "cm = confusion_matrix(y2_test,y2_pred)"
   ]
  },
  {
   "cell_type": "code",
   "execution_count": 8,
   "metadata": {},
   "outputs": [
    {
     "name": "stdout",
     "output_type": "stream",
     "text": [
      "Confusion matrix, without normalization\n",
      "[[0 1 2 0]\n",
      " [0 6 0 1]\n",
      " [0 1 2 2]\n",
      " [0 0 0 2]]\n"
     ]
    },
    {
     "data": {
      "image/png": "[encoded data removed]",
      "text/plain": [
       "<Figure size 432x288 with 2 Axes>"
      ]
     },
     "metadata": {
      "needs_background": "light"
     },
     "output_type": "display_data"
    }
   ],
   "source": [
    "cnf_matrix = confusion_matrix(y2_test, y2_pred,labels=['Kanye West','Drake','Rick Ross','Disclosure'])\n",
    "np.set_printoptions(precision=2)\n",
    "\n",
    "# Plot non-normalized confusion matrix\n",
    "plt.figure()\n",
    "plot_confusion_matrix(cnf_matrix, classes=['Kanye West','Drake','Rick Ross','Disclosure'],\n",
    "                      title='Confusion matrix, without normalization')"
   ]
  },
  {
   "cell_type": "code",
   "execution_count": null,
   "metadata": {},
   "outputs": [],
   "source": []
  },
  {
   "cell_type": "code",
   "execution_count": null,
   "metadata": {},
   "outputs": [],
   "source": []
  }
 ],
 "metadata": {
  "kernelspec": {
   "display_name": "Python 3",
   "language": "python",
   "name": "python3"
  },
  "language_info": {
   "codemirror_mode": {
    "name": "ipython",
    "version": 3
   },
   "file_extension": ".py",
   "mimetype": "text/x-python",
   "name": "python",
   "nbconvert_exporter": "python",
   "pygments_lexer": "ipython3",
   "version": "3.7.4"
  }
 },
 "nbformat": 4,
 "nbformat_minor": 4
}
